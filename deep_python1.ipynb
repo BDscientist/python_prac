{
 "cells": [
  {
   "cell_type": "markdown",
   "metadata": {},
   "source": [
    "## For Loop 확장하기\n",
    "### for + break"
   ]
  },
  {
   "cell_type": "code",
   "execution_count": 2,
   "metadata": {},
   "outputs": [
    {
     "name": "stdout",
     "output_type": "stream",
     "text": [
      "10\n",
      "==================\n",
      "10\n",
      "20\n",
      "30\n",
      "40\n"
     ]
    }
   ],
   "source": [
    "scores = [10,20,30,40,50,30,40,50]\n",
    "\n",
    "for score in scores:\n",
    "    print(score)\n",
    "    break\n",
    "print(\"==================\")\n",
    "\n",
    "for i in range(len(scores)):\n",
    "    score = scores[i]\n",
    "    print(score)\n",
    "    \n",
    "    if i ==3:\n",
    "        break"
   ]
  },
  {
   "cell_type": "markdown",
   "metadata": {},
   "source": [
    "### 최초 합격자 구하기"
   ]
  },
  {
   "cell_type": "code",
   "execution_count": 3,
   "metadata": {},
   "outputs": [
    {
     "name": "stdout",
     "output_type": "stream",
     "text": [
      "First passed student(idx, scores):  2 / 90\n"
     ]
    }
   ],
   "source": [
    "scores = [30,50,90,70,30,95,40]\n",
    "cutoff = 90\n",
    "\n",
    "first_pass_idx = None\n",
    "for score_idx in range(len(scores)):\n",
    "    score = scores[score_idx]\n",
    "    \n",
    "    if score >= cutoff and first_pass_idx == None:\n",
    "        first_pass_idx = score_idx\n",
    "        break\n",
    "print(\"First passed student(idx, scores): \",score_idx, '/',score)"
   ]
  },
  {
   "cell_type": "markdown",
   "metadata": {},
   "source": [
    "## histogram"
   ]
  },
  {
   "cell_type": "code",
   "execution_count": 1,
   "metadata": {},
   "outputs": [
    {
     "name": "stdout",
     "output_type": "stream",
     "text": [
      "interval >>  20.0\n",
      "10 0.0 10.0 [1, 0, 0, 0, 0]\n",
      "30 20.0 10.0 [1, 1, 0, 0, 0]\n",
      "10 0.0 10.0 [2, 1, 0, 0, 0]\n",
      "50 40.0 10.0 [2, 1, 1, 0, 0]\n",
      "15 0.0 15.0 [3, 1, 1, 0, 0]\n",
      "99 80.0 19.0 [3, 1, 1, 0, 1]\n",
      "\n",
      "Histogram:  [3, 1, 1, 0, 1]\n"
     ]
    }
   ],
   "source": [
    "scores = [10,30,20,60,20,10,50,15,99]\n",
    "\n",
    "n_bin = 5\n",
    "hist_range = [0,100]\n",
    "\n",
    "interval = (hist_range[1]- hist_range[0])/n_bin\n",
    "print(\"interval >> \",interval)\n",
    "\n",
    "cutoffs = list()\n",
    "hist = list()\n",
    "\n",
    "for cutoff in range(n_bin):\n",
    "    cutoff = interval*cutoff\n",
    "    cutoffs.append(cutoff)\n",
    "    hist.append(0)\n",
    "    \n",
    "for score in scores:\n",
    "    for cutoff_idx in range(n_bin):\n",
    "        cutoff = cutoffs[cutoff_idx]\n",
    "        diff = score - cutoff\n",
    "        \n",
    "        if diff >0 and diff<interval:\n",
    "            hist[cutoff_idx] +=1\n",
    "            print(score,cutoff,diff,hist)\n",
    "            break\n",
    "print(\"\\nHistogram: \",hist)"
   ]
  },
  {
   "cell_type": "markdown",
   "metadata": {},
   "source": [
    "## Tuple and zip"
   ]
  },
  {
   "cell_type": "code",
   "execution_count": 3,
   "metadata": {},
   "outputs": [
    {
     "ename": "SyntaxError",
     "evalue": "keyword can't be an expression (<ipython-input-3-3afcf437d1eb>, line 3)",
     "output_type": "error",
     "traceback": [
      "\u001b[1;36m  File \u001b[1;32m\"<ipython-input-3-3afcf437d1eb>\"\u001b[1;36m, line \u001b[1;32m3\u001b[0m\n\u001b[1;33m    print(score[0]=100) #튜플은 값을 바꿀 수 가 없음.\u001b[0m\n\u001b[1;37m         ^\u001b[0m\n\u001b[1;31mSyntaxError\u001b[0m\u001b[1;31m:\u001b[0m keyword can't be an expression\n"
     ]
    }
   ],
   "source": [
    "scores  = (30,50,90,70)\n",
    "print(scores)\n",
    "print(score[0]=100) #튜플은 값을 바꿀 수 가 없음. "
   ]
  },
  {
   "cell_type": "markdown",
   "metadata": {},
   "source": [
    "### tuple packing and unpacking"
   ]
  },
  {
   "cell_type": "code",
   "execution_count": 6,
   "metadata": {},
   "outputs": [
    {
     "name": "stdout",
     "output_type": "stream",
     "text": [
      "(10, 20)\n",
      "10 20\n"
     ]
    }
   ],
   "source": [
    "scores = 10,20  #packing\n",
    "print(scores)\n",
    "\n",
    "score1, score2 = (10,20) #unpacking\n",
    "print(score1, score2)"
   ]
  },
  {
   "cell_type": "markdown",
   "metadata": {},
   "source": [
    "### for+zip"
   ]
  },
  {
   "cell_type": "code",
   "execution_count": 10,
   "metadata": {},
   "outputs": [
    {
     "name": "stdout",
     "output_type": "stream",
     "text": [
      "(10, 50)\n",
      "(20, 30)\n",
      "(30, 10)\n",
      "10 50\n",
      "20 30\n",
      "30 10\n"
     ]
    }
   ],
   "source": [
    "m_scores = [10,20,30]\n",
    "e_scores = [50,30,10]\n",
    "#for문을 통한 packing\n",
    "for data_idx in zip(m_scores,e_scores):\n",
    "    print(data_idx)\n",
    "#for문을 통한 unpacking\n",
    "for m_score,e_score in zip(m_scores,e_scores):\n",
    "    print(m_score,e_score)"
   ]
  },
  {
   "cell_type": "markdown",
   "metadata": {},
   "source": [
    "### manhatten distance"
   ]
  },
  {
   "cell_type": "code",
   "execution_count": 11,
   "metadata": {},
   "outputs": [
    {
     "name": "stdout",
     "output_type": "stream",
     "text": [
      "manhatten distence : 24\n",
      "\n"
     ]
    }
   ],
   "source": [
    "v1 = [1,3,5,6,7,8,9,9]\n",
    "v2 = [4,3,6,1,2,3,5,8]\n",
    "\n",
    "m_dists = 0\n",
    "for i, j in zip(v1,v2):\n",
    "    sub = i-j\n",
    "    if sub < 0:\n",
    "        m_dists += -sub\n",
    "    else:\n",
    "        m_dists += sub\n",
    "print(f\"manhatten distence : {m_dists}\\n\")"
   ]
  },
  {
   "cell_type": "markdown",
   "metadata": {},
   "source": [
    "## 두 학급 평균구하기"
   ]
  },
  {
   "cell_type": "code",
   "execution_count": 1,
   "metadata": {},
   "outputs": [
    {
     "name": "stdout",
     "output_type": "stream",
     "text": [
      "score mean of class:[20.0, 40.0]\n"
     ]
    }
   ],
   "source": [
    "m_scores = [30,20,10]\n",
    "e_scores = [30,40,50]\n",
    "\n",
    "n_class =2\n",
    "n_student = len(m_scores)\n",
    "\n",
    "result_sum =[0,0]\n",
    "result_mean = list()\n",
    "\n",
    "for m,e in zip(m_scores,e_scores):\n",
    "    result_sum[0] +=m\n",
    "    result_sum[1] +=e\n",
    "for i in result_sum:\n",
    "    result_mean.append(i/n_student)\n",
    "    \n",
    "print(f\"score mean of class:{result_mean}\")    \n",
    " \n",
    "    \n",
    "       "
   ]
  },
  {
   "cell_type": "markdown",
   "metadata": {},
   "source": [
    "### accuracy"
   ]
  },
  {
   "cell_type": "code",
   "execution_count": 16,
   "metadata": {},
   "outputs": [
    {
     "name": "stdout",
     "output_type": "stream",
     "text": [
      "1 1\n",
      "1 1\n",
      "1 1\n",
      "0 1\n",
      "2 1\n",
      "2 2\n",
      "0 0\n",
      "result : 71.42857142857143%\n"
     ]
    }
   ],
   "source": [
    "predictions = [1,1,1,0,2,2,0]\n",
    "lables =      [1,1,1,1,1,2,0]\n",
    "\n",
    "n_data = len(lables)\n",
    "correct = 0\n",
    "for a,b in zip(predictions,lables):\n",
    "    print(a,b)\n",
    "    if a == b:\n",
    "        correct +=1\n",
    "\n",
    "result = correct / n_data\n",
    "print(f\"result : {result*100}%\") \n"
   ]
  },
  {
   "cell_type": "code",
   "execution_count": 15,
   "metadata": {},
   "outputs": [
    {
     "name": "stdout",
     "output_type": "stream",
     "text": [
      "result of accuray: 57.14285714285714\n"
     ]
    }
   ],
   "source": [
    "labels = [[1,0,0,0],\n",
    "          [0,1,0,0],\n",
    "          [0,0,1,0],\n",
    "          [0,1,0,0],\n",
    "          [1,0,0,0],\n",
    "          [0,0,0,1]]\n",
    "\n",
    "predictions = [[1,0,0,0],\n",
    "          [0,1,0,0],\n",
    "          [0,0,1,0],\n",
    "          [0,0,1,0],\n",
    "          [0,0,0,1],\n",
    "          [0,0,0,1]]\n",
    "\n",
    "correct = 0\n",
    "\n",
    "for a,b in zip(labels,predictions):\n",
    "    #print(a,b)\n",
    "    if a == b: correct +=1\n",
    "    \n",
    "result = correct / len(lables)\n",
    "print(f\"result of accuray: {result*100}\")\n"
   ]
  },
  {
   "cell_type": "markdown",
   "metadata": {},
   "source": [
    "### Euclidean Distance"
   ]
  },
  {
   "cell_type": "code",
   "execution_count": 18,
   "metadata": {},
   "outputs": [
    {
     "name": "stdout",
     "output_type": "stream",
     "text": [
      "eculidean distance : 20.0\n"
     ]
    }
   ],
   "source": [
    "vectors = [[1,11],\n",
    "           [2,12],\n",
    "           [3,13],\n",
    "           [4,14]]\n",
    "\n",
    "e_distance =0\n",
    "for a,b in vectors:\n",
    "    e_distance += (a-b)**2\n",
    "\n",
    "print(f\"eculidean distance : {e_distance**0.5}\")"
   ]
  },
  {
   "cell_type": "markdown",
   "metadata": {},
   "source": [
    "### for + enumerate"
   ]
  },
  {
   "cell_type": "code",
   "execution_count": 19,
   "metadata": {},
   "outputs": [
    {
     "name": "stdout",
     "output_type": "stream",
     "text": [
      "(0, 10)\n",
      "(1, 50)\n",
      "(2, 30)\n",
      "(3, 40)\n",
      "(4, 20)\n"
     ]
    }
   ],
   "source": [
    "scores = [10,50,30,40,20]\n",
    "\n",
    "for score_idx in enumerate(scores):\n",
    "    print(score_idx)"
   ]
  },
  {
   "cell_type": "code",
   "execution_count": 24,
   "metadata": {},
   "outputs": [
    {
     "name": "stdout",
     "output_type": "stream",
     "text": [
      "candidate of scholarship: 0\n",
      "90\n",
      "Try Again\n",
      "candidate of scholarship: 1\n",
      "80\n",
      "Try Again\n",
      "candidate of scholarship: 2\n",
      "70\n",
      "pass\n",
      "candidate of scholarship: 3\n",
      "60\n",
      "Try Again\n",
      "candidate of scholarship: 6\n",
      "90\n",
      "Try Again\n"
     ]
    }
   ],
   "source": [
    "m_scores = [90,80,70,60,50,30,90]\n",
    "e_scores = [20,40,70,30,80,20,10]\n",
    "k_scores = [90,80,90,50,90,80,90]\n",
    "\n",
    "for idx, m_score in enumerate(m_scores):\n",
    "    if m_score > 50:\n",
    "        print(f\"candidate of scholarship: {idx}\\n{m_score}\")\n",
    "        \n",
    "        if e_scores[idx] > 60 and k_scores[idx] > 60:\n",
    "            print(\"pass\")\n",
    "        else:\n",
    "            print(\"Try Again\")"
   ]
  },
  {
   "cell_type": "markdown",
   "metadata": {},
   "source": [
    "### 최댓값 , 최솟값 위치"
   ]
  },
  {
   "cell_type": "code",
   "execution_count": 29,
   "metadata": {},
   "outputs": [
    {
     "name": "stdout",
     "output_type": "stream",
     "text": [
      "Max/Max_idx : 95,5\n",
      "Min/Min_idx : 30,1\n"
     ]
    }
   ],
   "source": [
    "scores = [50,30,90,70,30,95,40]\n",
    "\n",
    "M = scores[0]\n",
    "m = scores[0]\n",
    "\n",
    "for idx, score in enumerate(scores):\n",
    "    if score > M:   \n",
    "        M = score\n",
    "        M_idx = idx\n",
    "    \n",
    "    if score < m:   \n",
    "        m = score\n",
    "        m_idx = idx\n",
    "    \n",
    "print(f\"Max/Max_idx : {M},{M_idx}\")\n",
    "print(f\"Min/Min_idx : {m},{m_idx}\")v "
   ]
  },
  {
   "cell_type": "code",
   "execution_count": 38,
   "metadata": {},
   "outputs": [
    {
     "name": "stdout",
     "output_type": "stream",
     "text": [
      "Before one-hot encoding\n",
      "['dog', 'cat', 'dolphin', 'tiger']\n",
      "[[0, 0, 0, 0], [0, 0, 0, 0], [0, 0, 0, 0], [0, 0, 0, 0]] \n",
      "\n",
      "0 dog\n",
      "1 cat\n",
      "2 dolphin\n",
      "3 tiger\n",
      "[0, 0, 1, 0]\n",
      "[0, 1, 0, 0]\n",
      "[1, 0, 0, 0]\n",
      "[0, 0, 0, 1]\n"
     ]
    }
   ],
   "source": [
    "labels = ['dog','cat','dolphin','tiger']\n",
    "print(\"Before one-hot encoding\")\n",
    "print(labels)\n",
    "\n",
    "n_label = len(labels)\n",
    "n_class =4\n",
    "\n",
    "one_hot_mat = list()\n",
    "for _ in range(n_label):\n",
    "    one_hot_vec = list()\n",
    "    \n",
    "    for _ in range(n_class):\n",
    "        one_hot_vec.append(0)\n",
    "    one_hot_mat.append(one_hot_vec)\n",
    "print(one_hot_mat,\"\\n\")\n",
    "\n",
    "for idx, label in enumerate(labels):\n",
    "    print(idx,label)\n",
    "    one_hot_vec = one_hot_mat[idx]\n",
    "    if label == 'dolphin':\n",
    "        one_hot_vec[0] =1\n",
    "    elif label == 'cat':\n",
    "        one_hot_vec[1] =1\n",
    "    elif label == 'dog':\n",
    "        one_hot_vec[2] =1\n",
    "    elif label == 'tiger':\n",
    "        one_hot_vec[3] =1\n",
    "    else:\n",
    "        print(\"ERROR\")\n",
    "        \n",
    "for u in one_hot_mat:\n",
    "    print(u)\n",
    "        \n",
    "    "
   ]
  },
  {
   "cell_type": "markdown",
   "metadata": {},
   "source": [
    "### zip + enumerate"
   ]
  },
  {
   "cell_type": "code",
   "execution_count": 39,
   "metadata": {},
   "outputs": [
    {
     "name": "stdout",
     "output_type": "stream",
     "text": [
      "0 40 20\n",
      "1 20 60\n",
      "2 50 30\n",
      "3 80 40\n"
     ]
    }
   ],
   "source": [
    "e_scores = [40,20,50,80]\n",
    "m_scores = [20,60,30,40]\n",
    "\n",
    "for score_idx, (e_score,m_score) in enumerate(zip(e_scores,m_scores)):\n",
    "    print(score_idx,e_score,m_score)"
   ]
  },
  {
   "cell_type": "code",
   "execution_count": 45,
   "metadata": {},
   "outputs": [
    {
     "name": "stdout",
     "output_type": "stream",
     "text": [
      "result of score : [80, 60]\n",
      "result of score_idx:(3, 1)\n"
     ]
    }
   ],
   "source": [
    "e_scores = [40,20,50,80]\n",
    "m_scores = [20,60,30,40]\n",
    "\n",
    "result = [None, None]\n",
    "M_indices = [0,0]\n",
    "for idx , (a,b) in enumerate(zip(e_scores,m_scores)):\n",
    "    if result[0] == None or a > result[0]:\n",
    "        result[0] , e_max_idx = a, idx\n",
    "    if result[1] == None or b > result[1]:\n",
    "        result[1] , m_max_idx = b, idx\n",
    "\n",
    "print(f\"result of score : {result}\")    \n",
    "print(f\"result of score_idx:{e_max_idx, m_max_idx}\")"
   ]
  },
  {
   "cell_type": "code",
   "execution_count": null,
   "metadata": {},
   "outputs": [],
   "source": [
    "predictions = [30,25,10,80,60,20]\n",
    "print(\"Predictions:\",predictions,\"\\n\")\n",
    "\n",
    "sorted_predictions = list()\n",
    "sorted_predictions_indices = list()\n",
    "\n",
    "for _ in range(len(predictions)):\n",
    "    max_score, max_idx = None, 0\n",
    "    \n",
    "    for idx, prediction in enumerate(predictions):\n",
    "        if idx in sorted_predictions_indices:\n",
    "            pass\n",
    "        \n",
    "        elif max_score == None or  prediction > max_score:\n",
    "            max_score  = prediction \n",
    "            max_idx = idx\n",
    "            \n",
    "    sorted_predictions.append(max_score)\n",
    "    sorted_predictions_indices.append(max_idx)\n",
    "    print(f\"sorted_prediction/sorted_indices{sorted_predictions,sorted_predictions_indices}\")\n"
   ]
  },
  {
   "cell_type": "markdown",
   "metadata": {},
   "source": [
    "### top5-accuracy"
   ]
  },
  {
   "cell_type": "code",
   "execution_count": 81,
   "metadata": {},
   "outputs": [
    {
     "name": "stdout",
     "output_type": "stream",
     "text": [
      "sorted_prediction/sorted_indices([0.2711864406779661], [3])\n",
      "sorted_prediction/sorted_indices([0.2711864406779661, 0.2033898305084746], [3, 4])\n",
      "sorted_prediction/sorted_indices([0.2711864406779661, 0.2033898305084746, 0.13559322033898305], [3, 4, 0])\n",
      "sorted_prediction/sorted_indices([0.2711864406779661, 0.2033898305084746, 0.13559322033898305, 0.1016949152542373], [3, 4, 0, 7])\n",
      "sorted_prediction/sorted_indices([0.2711864406779661, 0.2033898305084746, 0.13559322033898305, 0.1016949152542373, 0.0847457627118644], [3, 4, 0, 7, 1])\n",
      "good\n"
     ]
    }
   ],
   "source": [
    "predictions = [40,25,10,80,60,20,5,30,10,15]\n",
    "label =0\n",
    "\n",
    "n_size = len(predictions)\n",
    "prob_prediction = list()\n",
    "\n",
    "sorted_predictions = list()\n",
    "sorted_predictions_indices = list()\n",
    "\n",
    "# prediction 값을 prob 변환\n",
    "for i in range(n_size):\n",
    "    prob_prediction.append(predictions[i]/sum(predictions))\n",
    "#print(prob_prediction)\n",
    "\n",
    "for _ in range(5):\n",
    "    max_score, max_idx = None, 0\n",
    "    \n",
    "    for idx, prediction in enumerate(prob_prediction):\n",
    "        if idx in sorted_predictions_indices:\n",
    "            pass\n",
    "        \n",
    "        elif max_score == None or prediction > max_score:\n",
    "            max_score  = prediction \n",
    "            max_idx = idx\n",
    "            \n",
    "    sorted_predictions.append(max_score)\n",
    "    sorted_predictions_indices.append(max_idx)\n",
    "    print(f\"sorted_prediction/sorted_indices{sorted_predictions,sorted_predictions_indices}\")\n",
    "    \n",
    "   \n",
    "    \n",
    "if label in sorted_predictions_indices:\n",
    "    print(\"good\")\n",
    "else:\n",
    "    print(\"not good\")\n",
    "\n"
   ]
  },
  {
   "cell_type": "markdown",
   "metadata": {},
   "source": [
    "# String Formatting"
   ]
  },
  {
   "cell_type": "code",
   "execution_count": 1,
   "metadata": {},
   "outputs": [
    {
     "name": "stdout",
     "output_type": "stream",
     "text": [
      "score : 1, score2 : 2\n",
      "score : 1, score2 : 2\n"
     ]
    }
   ],
   "source": [
    "score1, score2 = 1,2\n",
    "print('score : {}, score2 : {}'.format(score1,score2))\n",
    "\n",
    "print_template = 'score : {}, score2 : {}'.format(score1,score2)\n",
    "print(print_template)"
   ]
  },
  {
   "cell_type": "code",
   "execution_count": 3,
   "metadata": {},
   "outputs": [
    {
     "name": "stdout",
     "output_type": "stream",
     "text": [
      "score1 : 2, score2 : 1\n"
     ]
    }
   ],
   "source": [
    "score1, score2 = 1,2\n",
    "\n",
    "print_template = 'score1 : {1}, score2 : {0}'.format(score1,score2)\n",
    "print(print_template)"
   ]
  },
  {
   "cell_type": "markdown",
   "metadata": {},
   "source": [
    "#### 출력되는 소숫점 개수 정하기"
   ]
  },
  {
   "cell_type": "code",
   "execution_count": 5,
   "metadata": {},
   "outputs": [
    {
     "name": "stdout",
     "output_type": "stream",
     "text": [
      "mean1: 43.12, mean2: 26.12\n",
      "\n",
      "mean1: 43.12, mean2: 26.12\n",
      "\n",
      "mean1: 43.12, mean2: 26.12\n",
      "\n"
     ]
    }
   ],
   "source": [
    "mean1 = 43.12312312415\n",
    "mean2 = 26.1231567546\n",
    "\n",
    "print('mean1: {:.2f}, mean2: {:.2f}\\n'.format(mean1,mean2))  #소숫점 2번째 짜리까지만\n",
    "print('mean1: {0:.2f}, mean2: {1:.2f}\\n'.format(mean1,mean2)) # 출력값 순서 + 소수점 2번째 까지만\n",
    "print('mean1: {1:.2f}, mean2: {0:.2f}\\n'.format(mean2,mean1))\n"
   ]
  },
  {
   "cell_type": "markdown",
   "metadata": {},
   "source": [
    "# Dictionary"
   ]
  },
  {
   "cell_type": "code",
   "execution_count": 9,
   "metadata": {},
   "outputs": [
    {
     "name": "stdout",
     "output_type": "stream",
     "text": [
      "Unknown char\n",
      "Unknown char\n",
      "Unknown char\n",
      "Unknown char\n",
      "Unknown char\n",
      "Unknown char\n",
      "Unknown char\n",
      "Unknown char\n",
      "Unknown char\n",
      "Unknown char\n",
      "[13, 7, 2, 3]\n",
      "3\n",
      "4\n",
      "3\n",
      "10\n"
     ]
    }
   ],
   "source": [
    "# 개 귀찮음 그래서 dictionary를 쓰는 거임\n",
    "test_string = 'aaaaaababababbdbcbcadasdwqrqwrfasga'\n",
    "char_cnt = [0,0,0,0]\n",
    "\n",
    "for char in test_string:\n",
    "    if char == 'a':\n",
    "        char_cnt[0] +=1\n",
    "    elif char == 'b':\n",
    "        char_cnt[1] +=1\n",
    "    elif char == 'c':\n",
    "        char_cnt[2] +=1\n",
    "    elif char == 'd':\n",
    "        char_cnt[3] +=1\n",
    "    else:\n",
    "        print(\"Unknown char\")\n",
    "print(char_cnt)\n",
    "\n",
    "\n",
    "char_cnt_dict = {'a':3, 'b':4, 'c':3, 'd':10}\n",
    "print(char_cnt_dict['a'])\n",
    "print(char_cnt_dict['b'])\n",
    "print(char_cnt_dict['c'])\n",
    "print(char_cnt_dict['d'])"
   ]
  },
  {
   "cell_type": "markdown",
   "metadata": {},
   "source": [
    "#### key, value 추가하기"
   ]
  },
  {
   "cell_type": "code",
   "execution_count": 10,
   "metadata": {},
   "outputs": [
    {
     "name": "stdout",
     "output_type": "stream",
     "text": [
      "{}\n",
      "{'a': 10}\n",
      "{'a': 10, 'b': 20}\n"
     ]
    }
   ],
   "source": [
    "test_dict = dict()\n",
    "print(test_dict)\n",
    "\n",
    "test_dict['a'] = 10\n",
    "print(test_dict)\n",
    "\n",
    "test_dict['b'] = 20\n",
    "print(test_dict)"
   ]
  },
  {
   "cell_type": "markdown",
   "metadata": {},
   "source": [
    "#### dict.get"
   ]
  },
  {
   "cell_type": "code",
   "execution_count": 11,
   "metadata": {},
   "outputs": [
    {
     "name": "stdout",
     "output_type": "stream",
     "text": [
      "0\n",
      "[0, 0, 0]\n",
      "Hello World!\n"
     ]
    }
   ],
   "source": [
    "test_dict = dict()\n",
    "print(test_dict.get('a',0))# dictionary에 a라는 게 없으면 0을 돌려줘\n",
    "print(test_dict.get('a',[0,0,0]))\n",
    "print(test_dict.get('a','Hello World!'))"
   ]
  },
  {
   "cell_type": "code",
   "execution_count": 12,
   "metadata": {},
   "outputs": [
    {
     "name": "stdout",
     "output_type": "stream",
     "text": [
      "{'a': 8, 'b': 4, 'c': 5, 'd': 7, 'w': 2, 'q': 2, 'e': 1, 'r': 1, 't': 1, 'g': 2, 'h': 2, 'f': 4, 's': 4, '!': 1, '@': 3, '#': 1, '1': 1, '%': 1, '6': 1}\n"
     ]
    }
   ],
   "source": [
    "test_string = 'aaaaabbbbcccccdwqeqwrtdghdfhdfgsdfsadfasdas!@#1@%@6'\n",
    "\n",
    "cnt_dict = dict()\n",
    "for char in test_string:\n",
    "    cnt_dict[char] = cnt_dict.get(char,0)+1\n",
    "print(cnt_dict)"
   ]
  },
  {
   "cell_type": "code",
   "execution_count": 39,
   "metadata": {},
   "outputs": [
    {
     "name": "stdout",
     "output_type": "stream",
     "text": [
      "[0, 0, 0, 0, 0, 0, 0, 0, 0]\n",
      "[0, 0, 0, 0, 0, 0, 0, 0, 0]\n",
      "[0, 0, 0, 0, 0, 0, 0, 0, 0]\n",
      "[0, 0, 0, 0, 0, 0, 0, 0, 0]\n",
      "[0, 0, 0, 0, 0, 0, 0, 0, 0]\n",
      "[0, 0, 0, 0, 0, 0, 0, 0, 0]\n",
      "[0, 0, 0, 0, 0, 0, 0, 0, 0]\n",
      "[0, 0, 0, 0, 0, 0, 0, 0, 0]\n",
      "[0, 0, 0, 0, 0, 0, 0, 0, 0]\n",
      "\n",
      "\n",
      "\n",
      "\n",
      "[1, 0, 0, 0, 0, 0, 0, 0, 0]\n",
      "[0, 1, 0, 0, 0, 0, 0, 0, 0]\n",
      "[0, 0, 0, 1, 0, 0, 0, 0, 0]\n",
      "[0, 0, 1, 0, 0, 0, 0, 0, 0]\n",
      "[1, 0, 0, 0, 0, 0, 0, 0, 0]\n",
      "[0, 1, 0, 0, 0, 0, 0, 0, 0]\n",
      "[0, 0, 0, 0, 0, 1, 0, 0, 0]\n",
      "[1, 0, 0, 0, 0, 0, 0, 0, 0]\n",
      "[0, 1, 0, 0, 0, 0, 0, 0, 0]\n"
     ]
    }
   ],
   "source": [
    "import numpy as np\n",
    "labels = ['dog','cat','dolphin','tiger','dog','cat','cow','dog','cat']\n",
    "\n",
    "one_hot_enc_dict = {'dog':0,'cat':1,'tiger':2,'dolphin':3,'rabbit':4,'cow':5}\n",
    "\n",
    "\n",
    "one_hot_mat = list()\n",
    "\n",
    "for _ in range(len(labels)):\n",
    "    one_hot_vec = [0]*len(labels)\n",
    "    print(one_hot_vec)\n",
    "    one_hot_mat.append(one_hot_vec)\n",
    "\n",
    "\n",
    "print(\"\\n\")\n",
    "for idx, label in enumerate(labels):\n",
    "    one_hot_vec = one_hot_mat[idx]\n",
    "    class_idx = one_hot_enc_dict[label]\n",
    "    one_hot_vec[class_idx] = 1\n",
    "   \n",
    "    \n",
    "print(\"\\n\")    \n",
    "for i in one_hot_mat:\n",
    "    print(i)\n"
   ]
  },
  {
   "cell_type": "code",
   "execution_count": 40,
   "metadata": {},
   "outputs": [
    {
     "name": "stdout",
     "output_type": "stream",
     "text": [
      "a 5\n",
      "b 3\n",
      "c 1\n",
      "d 4\n"
     ]
    }
   ],
   "source": [
    "cnt_dict = {'a':5,'b':3,'c':1,'d':4}\n",
    "\n",
    "for key in cnt_dict:\n",
    "    print(key, cnt_dict[key])"
   ]
  },
  {
   "cell_type": "code",
   "execution_count": 42,
   "metadata": {},
   "outputs": [
    {
     "name": "stdout",
     "output_type": "stream",
     "text": [
      "a\n",
      "b\n",
      "c\n",
      "d\n",
      "==========\n",
      "5\n",
      "3\n",
      "1\n",
      "4\n",
      "============\n",
      "a 5\n",
      "b 3\n",
      "c 1\n",
      "d 4\n"
     ]
    }
   ],
   "source": [
    "cnt_dict = {'a':5,'b':3,'c':1,'d':4}\n",
    "\n",
    "for k in cnt_dict.keys():\n",
    "    print(k)\n",
    "print(\"==========\")\n",
    "for k in cnt_dict.values():\n",
    "    print(k)\n",
    "print(\"============\")\n",
    "for a,b in cnt_dict.items():\n",
    "    print(a,b)"
   ]
  },
  {
   "cell_type": "code",
   "execution_count": 49,
   "metadata": {},
   "outputs": [
    {
     "name": "stdout",
     "output_type": "stream",
     "text": [
      "max_z , max_z_idx ('e', 90)\n"
     ]
    }
   ],
   "source": [
    "z_pthon = \\\n",
    "'''\n",
    "The Zen of Python, by Tim Peters\n",
    "\n",
    "Beautiful is better than ugly.\n",
    "Explicit is better than implicit.\n",
    "Simple is better than complex.\n",
    "Complex is better than complicated.\n",
    "Flat is better than nested.\n",
    "Sparse is better than dense.\n",
    "Readability counts.\n",
    "Special cases aren't special enough to break the rules.\n",
    "Although practicality beats purity.\n",
    "Errors should never pass silently.\n",
    "Unless explicitly silenced.\n",
    "In the face of ambiguity, refuse the temptation to guess.\n",
    "There should be one-- and preferably only one --obvious way to do it.\n",
    "Although that way may not be obvious at first unless you're Dutch.\n",
    "Now is better than never.\n",
    "Although never is often better than *right* now.\n",
    "If the implementation is hard to explain, it's a bad idea.\n",
    "If the implementation is easy to explain, it may be a good idea.\n",
    "Namespaces are one honking great idea -- let's do more of those!\n",
    "'''\n",
    "\n",
    "\n",
    "cnt_dict = dict()\n",
    "for char in z_pthon:\n",
    "    cnt_dict[char] = cnt_dict.get(char,0)+1\n",
    "#print(cnt_dict)\n",
    "\n",
    "max_z ,max_z_idx = None, 0 \n",
    "for a,b in cnt_dict.items():\n",
    "    if b > max_z_idx and a !=' ':\n",
    "        max_z_idx = b\n",
    "        max_z = a\n",
    "        \n",
    "print(f\"max_z , max_z_idx {max_z,max_z_idx}\") \n"
   ]
  },
  {
   "cell_type": "code",
   "execution_count": 92,
   "metadata": {},
   "outputs": [
    {
     "name": "stdout",
     "output_type": "stream",
     "text": [
      "{'Korean': {'sum': 0, 'mean': 0, 'max': 0, 'max_idx': 0}, 'English': {'sum': 0, 'mean': 0, 'max': 0, 'max_idx': 0}, 'Math': {'sum': 0, 'mean': 0, 'max': 0, 'max_idx': 0}}\n",
      "0 [10, 15, 30]\n",
      "1 [20, 45, 20]\n",
      "2 [30, 35, 40]\n",
      "3 [40, 30, 50]\n",
      "{'Korean': {'sum': 100, 'mean': 25.0, 'max': 40, 'max_idx': 3}, 'English': {'sum': 125, 'mean': 31.25, 'max': 45, 'max_idx': 1}, 'Math': {'sum': 140, 'mean': 35.0, 'max': 50, 'max_idx': 3}}\n"
     ]
    }
   ],
   "source": [
    "scores = [[10,15,30],\n",
    "          [20,45,20],\n",
    "          [30,35,40],\n",
    "          [40,30,50]]\n",
    "\n",
    "class_names = ['Korean','English','Math']\n",
    "data = ['sum','mean','max','max_idx']\n",
    "\n",
    "meta_data = dict()\n",
    "for i in class_names:\n",
    "    meta_data[i] = dict()\n",
    "    for j in data:\n",
    "        meta_data[i][j] = 0\n",
    "print(meta_data)\n",
    "\n",
    "max_score , max_score_idx = None, 0\n",
    "\n",
    "for score_idx, score in enumerate(scores):\n",
    "    print(score_idx,score)\n",
    "    for c_idx, c_score in enumerate(score):\n",
    "        #print(c_idx,c_score)\n",
    "        meta = meta_data[class_names[c_idx]]\n",
    "        #print(c_score)\n",
    "        meta['sum'] +=c_score\n",
    "        \n",
    "        if  c_score > meta['max']:\n",
    "            meta['max'] = c_score\n",
    "            meta['max_idx'] = score_idx\n",
    "            \n",
    "for idx in range(len(class_names)):\n",
    "    meta = meta_data[class_names[idx]]\n",
    "    meta['mean'] = meta['sum'] / len(scores)\n",
    "        \n",
    "\n",
    "print(meta_data)        \n",
    "        \n",
    "    \n",
    "    \n",
    "\n",
    "        "
   ]
  },
  {
   "cell_type": "code",
   "execution_count": 61,
   "metadata": {},
   "outputs": [
    {
     "name": "stdout",
     "output_type": "stream",
     "text": [
      "{'Korean': {'sum': 0, 'mean': 0, 'max': 0, 'max_idx': 0}, 'English': {'sum': 0, 'mean': 0, 'max': 0, 'max_idx': 0}, 'Math': {'sum': 0, 'mean': 0, 'max': 0, 'max_idx': 0}}\n",
      "{'sum': 0, 'mean': 0, 'max': 0, 'max_idx': 0}\n",
      "0\n"
     ]
    }
   ],
   "source": [
    "print(meta_data)\n",
    "print(meta_data['Korean'])\n",
    "print(meta_data['Korean']['sum'])"
   ]
  },
  {
   "cell_type": "code",
   "execution_count": 103,
   "metadata": {},
   "outputs": [
    {
     "name": "stdout",
     "output_type": "stream",
     "text": [
      "{'Korean': {'sum': 0, 'mean': 0, 'max': 0, 'min': 0, 'max_idx': 0}, 'English': {'sum': 0, 'mean': 0, 'max': 0, 'min': 0, 'max_idx': 0}, 'Math': {'sum': 0, 'mean': 0, 'max': 0, 'min': 0, 'max_idx': 0}}\n",
      "Korean {'sum': 100, 'mean': 25.0, 'max': 40, 'min': 0, 'max_idx': 3}\n",
      "English {'sum': 125, 'mean': 31.25, 'max': 45, 'min': 0, 'max_idx': 1}\n",
      "Math {'sum': 140, 'mean': 35.0, 'max': 50, 'min': 0, 'max_idx': 3}\n",
      "[[ 9.375      14.30555556 29.3       ]\n",
      " [19.375      44.30555556 19.3       ]\n",
      " [29.375      34.30555556 39.3       ]\n",
      " [39.375      29.30555556 49.3       ]]\n"
     ]
    }
   ],
   "source": [
    "scores = [[10,15,30],\n",
    "          [20,45,20],\n",
    "          [30,35,40],\n",
    "          [40,30,50]]\n",
    "\n",
    "class_names = ['Korean','English','Math']\n",
    "data = ['sum','mean','max','min','max_idx']\n",
    "\n",
    "meta_data = dict()\n",
    "for i in class_names:\n",
    "    meta_data[i] = dict()\n",
    "    for j in data:\n",
    "        meta_data[i][j] = 0\n",
    "print(meta_data)\n",
    "\n",
    "max_score , max_score_idx = None,0\n",
    "min_score , min_score_idx = None,0\n",
    "\n",
    "\n",
    "for score_idx, score in enumerate(scores):\n",
    "    #print(score_idx,score)\n",
    "    for c_idx, c_score in enumerate(score):\n",
    "        #print(c_idx,c_score)\n",
    "        meta = meta_data[class_names[c_idx]]\n",
    "        #print(c_score)\n",
    "        meta['sum'] +=c_score\n",
    "        \n",
    "        if  c_score > meta['max']:\n",
    "            meta['max'] = c_score\n",
    "            meta['max_idx'] = score_idx\n",
    "        \n",
    "        if  c_score < meta['min']:\n",
    "            meta['min'] = c_score\n",
    "            meta['min_idx'] = score_idx\n",
    "        \n",
    "            \n",
    "for idx in range(len(class_names)):\n",
    "    meta = meta_data[class_names[idx]]\n",
    "    meta['mean'] = meta['sum'] / len(scores)\n",
    "\n",
    "new_scores = list()\n",
    "\n",
    "for score_idx, score in enumerate(scores):\n",
    "    for c_idx,c_score in enumerate(score):\n",
    "        new_scores.append(scores[score_idx][c_idx] - meta_data[class_names[c_idx]]['mean'] / meta_data[class_names[c_idx]]['max'] - meta_data[class_names[c_idx]]['min'])\n",
    "            \n",
    "for k,v in meta_data.items():\n",
    "    print(k,v)\n",
    "\n",
    "a=np.array(new_scores).reshape(4,3)\n",
    "print(a)"
   ]
  },
  {
   "cell_type": "markdown",
   "metadata": {},
   "source": [
    "# List Comprehension"
   ]
  },
  {
   "cell_type": "code",
   "execution_count": 1,
   "metadata": {},
   "outputs": [
    {
     "name": "stdout",
     "output_type": "stream",
     "text": [
      "[0, 1, 2, 3, 4, 5, 6, 7, 8, 9, 10, 11, 12, 13, 14, 15, 16, 17, 18, 19]\n",
      "[0, 1, 2, 3, 4, 5, 6, 7, 8, 9, 10, 11, 12, 13, 14, 15, 16, 17, 18, 19]\n"
     ]
    }
   ],
   "source": [
    "numbers = list()\n",
    "\n",
    "for i in range(20):\n",
    "    numbers.append(i)\n",
    "print(numbers)\n",
    "\n",
    "numbers2 = [i for i in range(20)]\n",
    "print(numbers2)    "
   ]
  },
  {
   "cell_type": "code",
   "execution_count": 2,
   "metadata": {},
   "outputs": [
    {
     "name": "stdout",
     "output_type": "stream",
     "text": [
      "[0, 30, 60, 90, 120, 150, 180, 210, 240, 270] [0, 30, 60, 90, 120, 150, 180, 210, 240, 270]\n"
     ]
    }
   ],
   "source": [
    "m_scores = [10*m for m in range(10)]\n",
    "e_scores = [20*a for a in range(10)]\n",
    "\n",
    "score_sum1 = [m_scores[idx] + e_scores[idx] for idx in range(len(m_scores))]\n",
    "score_sum2 = [a+b for a,b in zip(m_scores,e_scores)]\n",
    "\n",
    "print(score_sum1 , score_sum2)"
   ]
  },
  {
   "cell_type": "markdown",
   "metadata": {},
   "source": [
    "# Dictionary Comprehension"
   ]
  },
  {
   "cell_type": "code",
   "execution_count": 4,
   "metadata": {},
   "outputs": [
    {
     "name": "stdout",
     "output_type": "stream",
     "text": [
      "{'a': 50, 'b': 20, 'c': 20, 'd': 30, 'e': 40}\n",
      "[{'a': 50, 'b': 20, 'c': 20, 'd': 30, 'e': 40}]\n"
     ]
    }
   ],
   "source": [
    "names = ['a','b','c','d','e']\n",
    "scores = [50,20,20,30,40,50]\n",
    "\n",
    "name_score1 = dict()\n",
    "for a,b in zip(names,scores):\n",
    "    name_score1[a] = b\n",
    "print(name_score1)\n",
    "\n",
    "name_score2 = [{a:b for a,b in zip(names,scores)} ]\n",
    "print(name_score2)"
   ]
  },
  {
   "cell_type": "code",
   "execution_count": 5,
   "metadata": {},
   "outputs": [
    {
     "name": "stdout",
     "output_type": "stream",
     "text": [
      "[{'student_name:a': 100, 'student_name:b': 80, 'student_name:c': 140, 'student_name:d': 180}]\n"
     ]
    }
   ],
   "source": [
    "name_score_dict = {'a':50,'b':40,'c':70,'d':90}\n",
    "new_score_dict = [{'student_name:'+a:2*b for a,b in name_score_dict.items()}]\n",
    "print(new_score_dict)"
   ]
  },
  {
   "cell_type": "code",
   "execution_count": 6,
   "metadata": {},
   "outputs": [
    {
     "name": "stdout",
     "output_type": "stream",
     "text": [
      "[{50: 'a', 40: 'b', 70: 'c', 90: 'd'}]\n"
     ]
    }
   ],
   "source": [
    "name_score_dict = {'a':50,'b':40,'c':70,'d':90}\n",
    "new_score_dict = [{b:a for a,b in name_score_dict.items()}]\n",
    "print(new_score_dict)"
   ]
  }
 ],
 "metadata": {
  "interpreter": {
   "hash": "b674431c1d39ef928ef270796425238bfb437e6432d715d69029c8bf72455e63"
  },
  "kernelspec": {
   "display_name": "Python 3.6.15 64-bit ('coin_deep': conda)",
   "language": "python",
   "name": "python3"
  },
  "language_info": {
   "codemirror_mode": {
    "name": "ipython",
    "version": 3
   },
   "file_extension": ".py",
   "mimetype": "text/x-python",
   "name": "python",
   "nbconvert_exporter": "python",
   "pygments_lexer": "ipython3",
   "version": "3.6.15"
  },
  "orig_nbformat": 4
 },
 "nbformat": 4,
 "nbformat_minor": 2
}
